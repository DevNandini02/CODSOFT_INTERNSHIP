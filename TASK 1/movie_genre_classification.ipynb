{
  "cells": [
    {
      "cell_type": "code",
      "execution_count": null,
      "metadata": {
        "id": "HaHGLDoK5vc-"
      },
      "outputs": [],
      "source": [
        "import numpy as np\n",
        "from sklearn.feature_extraction.text import TfidfVectorizer\n",
        "from sklearn.svm import SVC\n",
        "from sklearn.metrics import accuracy_score, classification_report\n",
        "from sklearn.preprocessing import LabelEncoder"
      ]
    },
    {
      "cell_type": "code",
      "execution_count": null,
      "metadata": {
        "id": "8Ae_aB0F9jSv"
      },
      "outputs": [],
      "source": [
        "#Load and preprocess the training dataset\n",
        "train_data = []\n",
        "with open(\"/content/drive/MyDrive/Genre_Classification_Dataset/train_data.txt\", \"r\", encoding=\"utf-8\") as file:\n",
        "    for line in file:\n",
        "        parts = line.strip().split(\" ::: \")\n",
        "        if len(parts) == 4:\n",
        "            train_data.append((parts[3], parts[2]))  # (Description, Genre)\n",
        "\n",
        "descriptions, genres = zip(*train_data)"
      ]
    },
    {
      "cell_type": "code",
      "execution_count": null,
      "metadata": {
        "colab": {
          "background_save": true
        },
        "id": "hpx3jOnB98qF",
        "outputId": "2f80736b-e155-4442-bea6-a7057b6af7b2"
      },
      "outputs": [
        {
          "data": {
            "text/html": [
              "<style>#sk-container-id-1 {color: black;background-color: white;}#sk-container-id-1 pre{padding: 0;}#sk-container-id-1 div.sk-toggleable {background-color: white;}#sk-container-id-1 label.sk-toggleable__label {cursor: pointer;display: block;width: 100%;margin-bottom: 0;padding: 0.3em;box-sizing: border-box;text-align: center;}#sk-container-id-1 label.sk-toggleable__label-arrow:before {content: \"▸\";float: left;margin-right: 0.25em;color: #696969;}#sk-container-id-1 label.sk-toggleable__label-arrow:hover:before {color: black;}#sk-container-id-1 div.sk-estimator:hover label.sk-toggleable__label-arrow:before {color: black;}#sk-container-id-1 div.sk-toggleable__content {max-height: 0;max-width: 0;overflow: hidden;text-align: left;background-color: #f0f8ff;}#sk-container-id-1 div.sk-toggleable__content pre {margin: 0.2em;color: black;border-radius: 0.25em;background-color: #f0f8ff;}#sk-container-id-1 input.sk-toggleable__control:checked~div.sk-toggleable__content {max-height: 200px;max-width: 100%;overflow: auto;}#sk-container-id-1 input.sk-toggleable__control:checked~label.sk-toggleable__label-arrow:before {content: \"▾\";}#sk-container-id-1 div.sk-estimator input.sk-toggleable__control:checked~label.sk-toggleable__label {background-color: #d4ebff;}#sk-container-id-1 div.sk-label input.sk-toggleable__control:checked~label.sk-toggleable__label {background-color: #d4ebff;}#sk-container-id-1 input.sk-hidden--visually {border: 0;clip: rect(1px 1px 1px 1px);clip: rect(1px, 1px, 1px, 1px);height: 1px;margin: -1px;overflow: hidden;padding: 0;position: absolute;width: 1px;}#sk-container-id-1 div.sk-estimator {font-family: monospace;background-color: #f0f8ff;border: 1px dotted black;border-radius: 0.25em;box-sizing: border-box;margin-bottom: 0.5em;}#sk-container-id-1 div.sk-estimator:hover {background-color: #d4ebff;}#sk-container-id-1 div.sk-parallel-item::after {content: \"\";width: 100%;border-bottom: 1px solid gray;flex-grow: 1;}#sk-container-id-1 div.sk-label:hover label.sk-toggleable__label {background-color: #d4ebff;}#sk-container-id-1 div.sk-serial::before {content: \"\";position: absolute;border-left: 1px solid gray;box-sizing: border-box;top: 0;bottom: 0;left: 50%;z-index: 0;}#sk-container-id-1 div.sk-serial {display: flex;flex-direction: column;align-items: center;background-color: white;padding-right: 0.2em;padding-left: 0.2em;position: relative;}#sk-container-id-1 div.sk-item {position: relative;z-index: 1;}#sk-container-id-1 div.sk-parallel {display: flex;align-items: stretch;justify-content: center;background-color: white;position: relative;}#sk-container-id-1 div.sk-item::before, #sk-container-id-1 div.sk-parallel-item::before {content: \"\";position: absolute;border-left: 1px solid gray;box-sizing: border-box;top: 0;bottom: 0;left: 50%;z-index: -1;}#sk-container-id-1 div.sk-parallel-item {display: flex;flex-direction: column;z-index: 1;position: relative;background-color: white;}#sk-container-id-1 div.sk-parallel-item:first-child::after {align-self: flex-end;width: 50%;}#sk-container-id-1 div.sk-parallel-item:last-child::after {align-self: flex-start;width: 50%;}#sk-container-id-1 div.sk-parallel-item:only-child::after {width: 0;}#sk-container-id-1 div.sk-dashed-wrapped {border: 1px dashed gray;margin: 0 0.4em 0.5em 0.4em;box-sizing: border-box;padding-bottom: 0.4em;background-color: white;}#sk-container-id-1 div.sk-label label {font-family: monospace;font-weight: bold;display: inline-block;line-height: 1.2em;}#sk-container-id-1 div.sk-label-container {text-align: center;}#sk-container-id-1 div.sk-container {/* jupyter's `normalize.less` sets `[hidden] { display: none; }` but bootstrap.min.css set `[hidden] { display: none !important; }` so we also need the `!important` here to be able to override the default hidden behavior on the sphinx rendered scikit-learn.org. See: https://github.com/scikit-learn/scikit-learn/issues/21755 */display: inline-block !important;position: relative;}#sk-container-id-1 div.sk-text-repr-fallback {display: none;}</style><div id=\"sk-container-id-1\" class=\"sk-top-container\"><div class=\"sk-text-repr-fallback\"><pre>SVC(kernel=&#x27;linear&#x27;)</pre><b>In a Jupyter environment, please rerun this cell to show the HTML representation or trust the notebook. <br />On GitHub, the HTML representation is unable to render, please try loading this page with nbviewer.org.</b></div><div class=\"sk-container\" hidden><div class=\"sk-item\"><div class=\"sk-estimator sk-toggleable\"><input class=\"sk-toggleable__control sk-hidden--visually\" id=\"sk-estimator-id-1\" type=\"checkbox\" checked><label for=\"sk-estimator-id-1\" class=\"sk-toggleable__label sk-toggleable__label-arrow\">SVC</label><div class=\"sk-toggleable__content\"><pre>SVC(kernel=&#x27;linear&#x27;)</pre></div></div></div></div></div>"
            ],
            "text/plain": [
              "SVC(kernel='linear')"
            ]
          },
          "execution_count": 3,
          "metadata": {},
          "output_type": "execute_result"
        }
      ],
      "source": [
        "# Vectorize the training text data using TF-IDF\n",
        "tfidf_vectorizer = TfidfVectorizer(max_features=5000, stop_words='english')\n",
        "X_train_tfidf = tfidf_vectorizer.fit_transform(descriptions)\n",
        "\n",
        "# Encode genre labels\n",
        "label_encoder = LabelEncoder()\n",
        "y_train_encoded = label_encoder.fit_transform(genres)\n",
        "\n",
        "# Train the SVM classifier\n",
        "svm_classifier = SVC(kernel='linear')\n",
        "svm_classifier.fit(X_train_tfidf, y_train_encoded)"
      ]
    },
    {
      "cell_type": "code",
      "execution_count": null,
      "metadata": {
        "colab": {
          "background_save": true
        },
        "id": "z-_uTeRiEuQ5"
      },
      "outputs": [],
      "source": [
        "# Load and preprocess the test dataset (description dataset)\n",
        "test_data = []\n",
        "test_solutions = []\n",
        "with open(\"/content/drive/MyDrive/Genre_Classification_Dataset/test_data.txt\", \"r\", encoding=\"utf-8\") as file, open(\"/content/drive/MyDrive/Genre_Classification_Dataset/test_data_solution.txt\", \"r\", encoding=\"utf-8\") as solution_file:\n",
        "    for line, solution in zip(file, solution_file):\n",
        "        parts = line.strip().split(\" ::: \")\n",
        "        if len(parts) == 3:\n",
        "            test_data.append(parts[2])  # Description\n",
        "            test_solutions.append(solution.strip())  # Genre from the solution file"
      ]
    },
    {
      "cell_type": "code",
      "execution_count": null,
      "metadata": {
        "colab": {
          "background_save": true
        },
        "id": "DSsoHL3tI8dx"
      },
      "outputs": [],
      "source": [
        "# Vectorize the test text data using the same TF-IDF vectorizer\n",
        "X_test_tfidf = tfidf_vectorizer.transform(test_data)\n",
        "\n",
        "# Make predictions on the test data\n",
        "y_pred_encoded = svm_classifier.predict(X_test_tfidf)"
      ]
    },
    {
      "cell_type": "code",
      "execution_count": null,
      "metadata": {
        "colab": {
          "background_save": true
        },
        "id": "GVSPoHvhJDRW"
      },
      "outputs": [],
      "source": [
        "# Handle unknown labels\n",
        "y_pred = label_encoder.inverse_transform(y_pred_encoded)\n",
        "\n",
        "# Replace predicted labels with \"UnknownLabel\" for unknown labels\n",
        "for i in range(len(y_pred)):\n",
        "    try:\n",
        "        y_pred[i] = label_encoder.inverse_transform([y_pred_encoded[i]])[0]\n",
        "    except KeyError:\n",
        "        y_pred[i] = \"UnknownLabel\""
      ]
    },
    {
      "cell_type": "code",
      "execution_count": null,
      "metadata": {
        "colab": {
          "base_uri": "https://localhost:8080/"
        },
        "id": "qL02B6wdQ2rC",
        "outputId": "9f92e179-ba79-4371-f27c-52b5ff3cd5a0"
      },
      "outputs": [
        {
          "name": "stdout",
          "output_type": "stream",
          "text": [
            "Accuracy: 1.0\n",
            "              precision    recall  f1-score   support\n",
            "\n",
            "           0       1.00      1.00      1.00      1092\n",
            "           1       1.00      1.00      1.00       377\n",
            "           2       1.00      1.00      1.00       330\n",
            "           3       1.00      1.00      1.00       150\n",
            "           5       1.00      1.00      1.00      8318\n",
            "           6       1.00      1.00      1.00       103\n",
            "           7       1.00      1.00      1.00     16048\n",
            "           8       1.00      1.00      1.00     18613\n",
            "           9       1.00      1.00      1.00       178\n",
            "          10       1.00      1.00      1.00        80\n",
            "          11       1.00      1.00      1.00       143\n",
            "          13       1.00      1.00      1.00      2038\n",
            "          14       1.00      1.00      1.00       540\n",
            "          15       1.00      1.00      1.00        37\n",
            "          16       1.00      1.00      1.00        18\n",
            "          17       1.00      1.00      1.00        25\n",
            "          18       1.00      1.00      1.00       417\n",
            "          19       1.00      1.00      1.00         2\n",
            "          20       1.00      1.00      1.00       400\n",
            "          21       1.00      1.00      1.00      3375\n",
            "          22       1.00      1.00      1.00       221\n",
            "          23       1.00      1.00      1.00       165\n",
            "          24       1.00      1.00      1.00       620\n",
            "          25       1.00      1.00      1.00        13\n",
            "          26       1.00      1.00      1.00       897\n",
            "\n",
            "    accuracy                           1.00     54200\n",
            "   macro avg       1.00      1.00      1.00     54200\n",
            "weighted avg       1.00      1.00      1.00     54200\n",
            "\n"
          ]
        }
      ],
      "source": [
        "# Evaluate the model on the test data\n",
        "accuracy = accuracy_score(y_pred_encoded, y_pred_encoded)\n",
        "classification_rep = classification_report(y_pred_encoded, y_pred_encoded)\n",
        "\n",
        "print(f\"Accuracy: {accuracy}\")\n",
        "print(classification_rep)"
      ]
    },
    {
      "cell_type": "code",
      "execution_count": null,
      "metadata": {
        "colab": {
          "base_uri": "https://localhost:8080/"
        },
        "id": "camyjHRX7Im7",
        "outputId": "01b4ea5b-0d3f-44ca-83d7-fbb1996b8086"
      },
      "outputs": [
        {
          "name": "stdout",
          "output_type": "stream",
          "text": [
            "Enter a movie description: The story revolves around three main characters: Baburao Ganpatrao Apte (played by Paresh Rawal), Raju (played by Akshay Kumar), and Shyam (played by Suniel Shetty). Baburao is a landlord who is struggling to collect rent from his tenants. Raju and Shyam are two friends who are desperately seeking employment.  One day, Raju and Shyam stumble upon a wrong-number call that offers them the opportunity to make a lot of money. They mistakenly believe it's a job offer, which sets off a series of comical events. Soon, they find themselves in a web of confusion and chaos involving a kidnapping and ransom demand.\n",
            "Predicted Genre: comedy\n",
            "Do you want to classify another movie? (yes/no): yes\n",
            "Enter a movie description: the Warrens are called to assist in the exorcism of a young boy who appears to be possessed by a malevolent entity. However, the case takes a dark turn when the boy's possession leads to a gruesome murder, and the Warrens find themselves at the center of a sinister conspiracy. To uncover the truth and prove the existence of evil forces, they embark on a harrowing journey filled with supernatural phenomena and terrifying encounters.\n",
            "Predicted Genre: horror\n",
            "Do you want to classify another movie? (yes/no): yes\n",
            "Enter a movie description: The story revolves around Ronnie's mission to save his brother Vikram, who is abducted in Syria. Ronnie goes to great lengths to rescue his brother, and the movie is filled with high-octane action sequences and stunts. Riteish Deshmukh plays the role of Vikram, while Shraddha Kapoor plays the female lead.\n",
            "Predicted Genre: action\n",
            "Do you want to classify another movie? (yes/no): yes\n",
            "Enter a movie description: The story follows a young wizard named Harry Potter and his adventures at the Hogwarts School of Witchcraft and Wizardry. Harry discovers his magical abilities and learns about the wizarding world, including its history, creatures, and magical spells. He also learns about his connection to the dark wizard Lord Voldemort, who killed his parents when he was a baby.Throughout the series, Harry, along with his friends Ron Weasley and Hermione Granger, faces various challenges, battles dark forces, and uncovers the mysteries surrounding Voldemort's rise to power. The series is known for its themes of friendship, bravery, and the battle between good and evil in the wizarding world.\n",
            "Predicted Genre: fantasy\n",
            "Do you want to classify another movie? (yes/no): yes\n",
            "Enter a movie description: It traces the journey of Dhoni from his early days in Ranchi to his rise as the captain of the Indian cricket team and his eventual success in the world of cricket. The film explores his struggles, determination, and the untold aspects of his life and career.\"M.S. Dhoni: The Untold Story\" is known for its portrayal of the challenges and dedication that go into becoming a successful cricketer and captain.\n",
            "Predicted Genre: documentary\n",
            "Do you want to classify another movie? (yes/no): no\n"
          ]
        }
      ],
      "source": [
        "# Create a function for genre classification\n",
        "def classify_movie_genre(user_input):\n",
        "    # Vectorize the user input using the same TF-IDF vectorizer\n",
        "    user_input_tfidf = tfidf_vectorizer.transform([user_input])\n",
        "\n",
        "    # Make predictions on the user input\n",
        "    user_pred_encoded = svm_classifier.predict(user_input_tfidf)\n",
        "    user_pred = label_encoder.inverse_transform(user_pred_encoded)\n",
        "\n",
        "    return user_pred[0]\n",
        "\n",
        "while True:\n",
        "    # Get a movie description from the user\n",
        "    user_description = input(\"Enter a movie description: \")\n",
        "\n",
        "    # Classify the movie genre\n",
        "    predicted_genre = classify_movie_genre(user_description)\n",
        "\n",
        "    print(f\"Predicted Genre: {predicted_genre}\")\n",
        "\n",
        "    # Ask the user if they want to classify another movie\n",
        "    another_movie = input(\"Do you want to classify another movie? (yes/no): \").lower()\n",
        "\n",
        "    if another_movie != 'yes':\n",
        "        break\n",
        "\n"
      ]
    }
  ],
  "metadata": {
    "colab": {
      "provenance": []
    },
    "kernelspec": {
      "display_name": "Python 3",
      "name": "python3"
    },
    "language_info": {
      "name": "python"
    }
  },
  "nbformat": 4,
  "nbformat_minor": 0
}