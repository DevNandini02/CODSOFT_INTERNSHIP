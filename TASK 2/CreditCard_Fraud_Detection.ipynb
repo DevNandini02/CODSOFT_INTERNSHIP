{
  "nbformat": 4,
  "nbformat_minor": 0,
  "metadata": {
    "colab": {
      "provenance": []
    },
    "kernelspec": {
      "name": "python3",
      "display_name": "Python 3"
    },
    "language_info": {
      "name": "python"
    }
  },
  "cells": [
    {
      "cell_type": "code",
      "source": [
        "#import the required libraries\n",
        "import pandas as pd\n",
        "from sklearn.linear_model import LogisticRegression\n",
        "from sklearn.preprocessing import StandardScaler\n",
        "from sklearn.metrics import accuracy_score, classification_report, confusion_matrix\n",
        "from sklearn.preprocessing import OneHotEncoder\n",
        "from sklearn.compose import ColumnTransformer\n",
        "from sklearn.pipeline import Pipeline\n",
        "import joblib\n"
      ],
      "metadata": {
        "id": "YSEulZCmQXU9"
      },
      "execution_count": null,
      "outputs": []
    },
    {
      "cell_type": "code",
      "source": [
        "# Load the training dataset\n",
        "fraudtrain = pd.read_csv(\"/content/drive/MyDrive/archive (12)/fraudTrain.csv\")\n",
        "\n",
        "# Load the testing dataset\n",
        "fraudtest = pd.read_csv(\"/content/drive/MyDrive/archive (12)/fraudTest.csv\")\n",
        "\n",
        "# Sample a fraction of the data\n",
        "fraudtrain = fraudtrain.sample(frac=0.1, random_state=42)\n",
        "fraudtest = fraudtest.sample(frac=0.1, random_state=42)\n"
      ],
      "metadata": {
        "id": "On1nZKvcm6oa"
      },
      "execution_count": null,
      "outputs": []
    },
    {
      "cell_type": "code",
      "source": [
        "# Data Preprocessing\n",
        "\n",
        "# Handling missing data (if any)\n",
        "fraudtrain.dropna(inplace=True)\n",
        "fraudtest.dropna(inplace=True)\n",
        "\n",
        "# Select relevant columns\n",
        "relevant_columns = [\n",
        "    'amt', 'lat', 'long', 'city_pop', 'unix_time', 'merch_lat', 'merch_long',\n",
        "    'is_fraud'  #target column\n",
        "]\n",
        "\n",
        "fraudtrain = fraudtrain[relevant_columns]\n",
        "fraudtest = fraudtest[relevant_columns]\n"
      ],
      "metadata": {
        "id": "0HhacjDuCX3c"
      },
      "execution_count": null,
      "outputs": []
    },
    {
      "cell_type": "code",
      "source": [
        "# Scaling numerical features\n",
        "scaler = StandardScaler()\n",
        "numerical_features = ['amt', 'lat', 'long', 'city_pop', 'unix_time', 'merch_lat', 'merch_long']\n",
        "fraudtrain.loc[:, numerical_features] = scaler.fit_transform(fraudtrain.loc[:, numerical_features])\n",
        "fraudtest.loc[:, numerical_features] = scaler.transform(fraudtest.loc[:, numerical_features])\n"
      ],
      "metadata": {
        "colab": {
          "base_uri": "https://localhost:8080/"
        },
        "id": "b1Da60LaDhXD",
        "outputId": "3c044009-6c40-474f-8190-a57d887f5b79"
      },
      "execution_count": null,
      "outputs": [
        {
          "output_type": "stream",
          "name": "stderr",
          "text": [
            "<ipython-input-5-42d22a312f06>:4: SettingWithCopyWarning: \n",
            "A value is trying to be set on a copy of a slice from a DataFrame.\n",
            "Try using .loc[row_indexer,col_indexer] = value instead\n",
            "\n",
            "See the caveats in the documentation: https://pandas.pydata.org/pandas-docs/stable/user_guide/indexing.html#returning-a-view-versus-a-copy\n",
            "  fraudtrain.loc[:, numerical_features] = scaler.fit_transform(fraudtrain.loc[:, numerical_features])\n"
          ]
        }
      ]
    },
    {
      "cell_type": "code",
      "source": [
        "# Split the data into features (X) and target (y)\n",
        "X_train = fraudtrain.drop(\"is_fraud\", axis=1)\n",
        "y_train = fraudtrain[\"is_fraud\"]\n",
        "X_test = fraudtest.drop(\"is_fraud\", axis=1)\n",
        "y_test = fraudtest[\"is_fraud\"]\n",
        "\n",
        "# Create and train the Logistic Regression model\n",
        "logistic_model = LogisticRegression(random_state=42)\n",
        "logistic_model.fit(X_train, y_train)\n",
        "\n",
        "# Make predictions on the testing data\n",
        "y_pred = logistic_model.predict(X_test)\n",
        "\n",
        "# Evaluate the model\n",
        "accuracy = accuracy_score(y_test, y_pred)\n",
        "conf_matrix = confusion_matrix(y_test, y_pred)\n",
        "classification_rep = classification_report(y_test, y_pred)"
      ],
      "metadata": {
        "id": "hzhwvdQgDnuL"
      },
      "execution_count": null,
      "outputs": []
    },
    {
      "cell_type": "code",
      "source": [
        "# Print the results\n",
        "print(f\"Accuracy: {accuracy}\")\n",
        "print(f\"Confusion Matrix:\\n{conf_matrix}\")\n",
        "print(f\"Classification Report:\\n{classification_rep}\")"
      ],
      "metadata": {
        "colab": {
          "base_uri": "https://localhost:8080/"
        },
        "id": "3nb8HA7NFZsF",
        "outputId": "06d4143b-f547-42d5-b5d1-e7bc48963187"
      },
      "execution_count": null,
      "outputs": [
        {
          "output_type": "stream",
          "name": "stdout",
          "text": [
            "Accuracy: 0.9952853955229252\n",
            "Confusion Matrix:\n",
            "[[55310    46]\n",
            " [  216     0]]\n",
            "Classification Report:\n",
            "              precision    recall  f1-score   support\n",
            "\n",
            "           0       1.00      1.00      1.00     55356\n",
            "           1       0.00      0.00      0.00       216\n",
            "\n",
            "    accuracy                           1.00     55572\n",
            "   macro avg       0.50      0.50      0.50     55572\n",
            "weighted avg       0.99      1.00      0.99     55572\n",
            "\n"
          ]
        }
      ]
    },
    {
      "cell_type": "markdown",
      "source": [
        "#Testing the model on sample input"
      ],
      "metadata": {
        "id": "_n75-Engdlkm"
      }
    },
    {
      "cell_type": "code",
      "source": [
        "while True:\n",
        "    # Get user input for each feature\n",
        "    amt = float(input(\"Enter Transaction Amount: \"))\n",
        "    lat = float(input(\"Enter Latitude: \"))\n",
        "    long = float(input(\"Enter Longitude: \"))\n",
        "    city_pop = float(input(\"Enter City Population: \"))\n",
        "    unix_time = float(input(\"Enter Unix Time: \"))\n",
        "    merch_lat = float(input(\"Enter Merchant Latitude: \"))\n",
        "    merch_long = float(input(\"Enter Merchant Longitude: \"))\n",
        "\n",
        "    # Scale user input to match the model's scaling\n",
        "    user_input = scaler.transform([[amt, lat, long, city_pop, unix_time, merch_lat, merch_long]])\n",
        "\n",
        "    # Predict whether it's fraud or not based on the user inputs\n",
        "    prediction = logistic_model.predict(user_input)\n",
        "\n",
        "    if prediction[0] == 1:\n",
        "        print(\"The model predicts it's fraud.\")\n",
        "    else:\n",
        "        print(\"The model predicts it's not fraud.\")\n",
        "\n",
        "    # Ask if the user wants to continue\n",
        "    user_choice = input(\"Do you want to enter more data? (yes/no): \").lower()\n",
        "\n",
        "    if user_choice != \"yes\":\n",
        "        break"
      ],
      "metadata": {
        "colab": {
          "base_uri": "https://localhost:8080/"
        },
        "id": "w0fNdCQDcZjB",
        "outputId": "5f2d3e07-c735-433a-f908-9d910ee85b2d"
      },
      "execution_count": null,
      "outputs": [
        {
          "name": "stdout",
          "output_type": "stream",
          "text": [
            "Enter Transaction Amount: 2000.0\n",
            "Enter Latitude: 40.748817\n",
            "Enter Longitude: -73.985428\n",
            "Enter City Population: 15000\n",
            "Enter Unix Time: 1478589875\n",
            "Enter Merchant Latitude: 40.748817\n",
            "Enter Merchant Longitude: -73.985428\n"
          ]
        },
        {
          "output_type": "stream",
          "name": "stderr",
          "text": [
            "/usr/local/lib/python3.10/dist-packages/sklearn/base.py:439: UserWarning: X does not have valid feature names, but StandardScaler was fitted with feature names\n",
            "  warnings.warn(\n",
            "/usr/local/lib/python3.10/dist-packages/sklearn/base.py:439: UserWarning: X does not have valid feature names, but LogisticRegression was fitted with feature names\n",
            "  warnings.warn(\n"
          ]
        },
        {
          "name": "stdout",
          "output_type": "stream",
          "text": [
            "The model predicts it's fraud.\n",
            "Do you want to enter more data? (yes/no): yes\n",
            "Enter Transaction Amount: 150.0\n",
            "Enter Latitude: 33.689475\n",
            "Enter Longitude: -117.543308\n",
            "Enter City Population: 10000\n",
            "Enter Unix Time: 1478589786\n",
            "Enter Merchant Latitude: 33.689475\n",
            "Enter Merchant Longitude: -117.543308\n"
          ]
        },
        {
          "output_type": "stream",
          "name": "stderr",
          "text": [
            "/usr/local/lib/python3.10/dist-packages/sklearn/base.py:439: UserWarning: X does not have valid feature names, but StandardScaler was fitted with feature names\n",
            "  warnings.warn(\n",
            "/usr/local/lib/python3.10/dist-packages/sklearn/base.py:439: UserWarning: X does not have valid feature names, but LogisticRegression was fitted with feature names\n",
            "  warnings.warn(\n"
          ]
        },
        {
          "name": "stdout",
          "output_type": "stream",
          "text": [
            "The model predicts it's not fraud.\n",
            "Do you want to enter more data? (yes/no): no\n"
          ]
        }
      ]
    }
  ]
}